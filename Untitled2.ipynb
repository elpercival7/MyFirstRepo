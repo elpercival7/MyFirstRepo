{
 "cells": [
  {
   "cell_type": "markdown",
   "id": "830ab1f6-67a9-4351-8051-42bc869fdfda",
   "metadata": {},
   "source": [
    "# My First Markdown Heading"
   ]
  },
  {
   "cell_type": "markdown",
   "id": "b8fa63d8-ca1e-4cf2-a25c-b1289b9a3585",
   "metadata": {},
   "source": [
    "## My Second Markdown Heading"
   ]
  },
  {
   "cell_type": "markdown",
   "id": "44d2e95f-981c-4cba-a6ad-75a60b3212f4",
   "metadata": {},
   "source": [
    "This is some **bold** text."
   ]
  },
  {
   "cell_type": "markdown",
   "id": "eba49d67-25b1-4e85-a01d-581cf897a17b",
   "metadata": {},
   "source": [
    "\n",
    "   1. First item\n",
    "   2. Second item\n",
    "   3. Third item"
   ]
  },
  {
   "cell_type": "code",
   "execution_count": null,
   "id": "55ef426b-5265-476d-bfc5-b65da2837f14",
   "metadata": {},
   "outputs": [],
   "source": []
  }
 ],
 "metadata": {
  "kernelspec": {
   "display_name": "Python 3 (ipykernel)",
   "language": "python",
   "name": "python3"
  },
  "language_info": {
   "codemirror_mode": {
    "name": "ipython",
    "version": 3
   },
   "file_extension": ".py",
   "mimetype": "text/x-python",
   "name": "python",
   "nbconvert_exporter": "python",
   "pygments_lexer": "ipython3",
   "version": "3.10.9"
  }
 },
 "nbformat": 4,
 "nbformat_minor": 5
}
